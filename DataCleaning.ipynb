{
 "cells": [
  {
   "cell_type": "markdown",
   "metadata": {},
   "source": [
    "# Data Cleaning"
   ]
  },
  {
   "cell_type": "code",
   "execution_count": 1,
   "metadata": {
    "tags": [
     "hide-input"
    ]
   },
   "outputs": [],
   "source": [
    "# Import pandas and read data\n",
    "import pandas as pd\n",
    "import numpy as np\n",
    "\n",
    "# load data from previous notebook.\n",
    "%store -r train_timings"
   ]
  },
  {
   "cell_type": "markdown",
   "metadata": {},
   "source": [
    "## Feature Engineering\n",
    "\n",
    "We should probably engineer some features first and add them to the dataframe so that we can get a better understanding of the data.\n",
    "\n",
    "- day of week\n",
    "- hour of day\n",
    "- signal date\n",
    "- difference between planned event time and actual event time\n",
    "- previous signal as it might be useful later\n",
    "\n",
    "We don't need origin date. It is not relevant to our analysis."
   ]
  },
  {
   "cell_type": "code",
   "execution_count": 2,
   "metadata": {
    "tags": [
     "hide-input",
     "hide-cell"
    ]
   },
   "outputs": [],
   "source": [
    "# create new features\n",
    "train_timings['event_diff_seconds'] = (train_timings['planned_event_time'] - train_timings['actual_event_time']).dt.total_seconds()\n",
    "train_timings['signal_date'] = train_timings['signal_passing_time'].dt.floor('d')\n",
    "train_timings['day_of_week'] = train_timings['signal_date'].dt.day_name()\n",
    "train_timings['hour_of_day'] = train_timings['signal_passing_time'].dt.hour\n",
    "\n",
    "train_timings['previous_signal'] = train_timings['signal'].shift(+1)\n",
    "train_timings['previous_train_id'] = train_timings['train_id'].shift(+1)\n",
    "train_timings['previous_signal'] = np.where((train_timings['train_id'] == train_timings['previous_train_id']), train_timings['previous_signal'], np.nan)\n",
    "\n",
    "# drop origin date\n",
    "train_timings.drop(['origin_date', 'dataset_stations'], axis=1, inplace=True)\n",
    "\n",
    "# sort the dataframe to help us to understand how the data works.\n",
    "train_timings.sort_values(['signal_date', 'hour_of_day', 'train_id', 'signal_passing_time'], inplace=True, ignore_index=True)\n",
    "\n",
    "# drop duplicate rows\n",
    "train_timings.drop_duplicates(inplace=True)"
   ]
  },
  {
   "cell_type": "code",
   "execution_count": 3,
   "metadata": {},
   "outputs": [
    {
     "name": "stdout",
     "output_type": "stream",
     "text": [
      "Stored 'train_timings' (DataFrame)\n"
     ]
    }
   ],
   "source": [
    "# store variables for next notebook\n",
    "%store train_timings"
   ]
  }
 ],
 "metadata": {
  "celltoolbar": "Tags",
  "interpreter": {
   "hash": "5588b4b2765d98ddfe88bcee51af3dd732b69bd1bb846a381827e7603c7da059"
  },
  "kernelspec": {
   "display_name": "Python 3 (ipykernel)",
   "language": "python",
   "name": "python3"
  },
  "language_info": {
   "codemirror_mode": {
    "name": "ipython",
    "version": 3
   },
   "file_extension": ".py",
   "mimetype": "text/x-python",
   "name": "python",
   "nbconvert_exporter": "python",
   "pygments_lexer": "ipython3",
   "version": "3.7.11"
  }
 },
 "nbformat": 4,
 "nbformat_minor": 2
}
