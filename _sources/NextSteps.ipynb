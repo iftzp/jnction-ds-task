{
 "cells": [
  {
   "cell_type": "markdown",
   "metadata": {},
   "source": [
    "# Next Steps"
   ]
  },
  {
   "cell_type": "markdown",
   "metadata": {},
   "source": [
    "Overall, there is a wide scope for further analysis if required by c2c. The data provided is of a high quality. Compared to many other data sources, the cleaning required is minimal and overall the data is reasonably tidy.  \n",
    "  \n",
    "If coupled with other datasets and more extensive technologies, the information which can be taken from this dataset could be visualised and digested in a much more appealing and easy-to-read way."
   ]
  },
  {
   "cell_type": "markdown",
   "metadata": {},
   "source": [
    "## Time Series Analysis & Forecasting\n",
    "\n",
    "The most appropriate application for data tied to time such as this is to use time series analysis and forecasting. This would allow c2c to know when a delay is most likely to occur and know where resources should be allocated.\n",
    "\n",
    "Another application could be to predict when a signal is going to fail."
   ]
  },
  {
   "cell_type": "markdown",
   "metadata": {},
   "source": [
    "## Signal Clustering and Monitoring\n",
    "\n",
    "If the sequences in which signals are triggered were analysed and grouped into clusters, the clusters could be used for monitoring purposes. If a signal within a cluster did not trigger when all other signals in the same clusters did, this would indicate that there is an issue. \n",
    "\n",
    "This would also require less work as each signal could be checked against the associated cluster, instead of monitoring each signal individually."
   ]
  },
  {
   "cell_type": "markdown",
   "metadata": {},
   "source": [
    "## Optimise Route Endings\n",
    "\n",
    "There seems to be a lot of activity showing trains moving during off peak hours, during times where there are very few planned events.\n",
    "\n",
    "If this is because trains need to be relocated for some reason, for example:\n",
    "- starting a journey at another station the following day\n",
    "- cleaning or servicing required which can only be carried out at a different station\n",
    "\n",
    "Maybe route allocation can be optimised so that trains don't have to be moved as much during off peak hours, saving resources."
   ]
  }
 ],
 "metadata": {
  "kernelspec": {
   "display_name": "Python 3 (ipykernel)",
   "language": "python",
   "name": "python3"
  },
  "language_info": {
   "codemirror_mode": {
    "name": "ipython",
    "version": 3
   },
   "file_extension": ".py",
   "mimetype": "text/x-python",
   "name": "python",
   "nbconvert_exporter": "python",
   "pygments_lexer": "ipython3",
   "version": "3.7.11"
  }
 },
 "nbformat": 4,
 "nbformat_minor": 2
}
