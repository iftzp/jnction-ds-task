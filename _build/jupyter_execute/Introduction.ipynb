{
 "cells": [
  {
   "cell_type": "markdown",
   "metadata": {},
   "source": [
    "# Introduction\n",
    "\n",
    "This document contains the Initial Exploratory Data Analysis carried out by [JNCTION](https://jnction.uk/) on behalf of [Trenitalia c2c Limited T/A c2c](https://www.c2c-online.co.uk/).  \n",
    "\n",
    "_______________\n",
    "\n",
    "c2c required initial insights regarding some key aspects of their business, including:\n",
    "- Data Outages and Strikes\n",
    "- Active Trains Over Time\n",
    "- Key Route: Pitsea - Benfleet\n",
    "\n",
    "Which can be found in the following pages of this document.  \n",
    "  \n",
    "JNCTION have also suggested some future work based on this analysis which we believe will assist in optimising resource allocation and providing a better customer experience.\n",
    "\n",
    "_______________\n",
    "\n",
    "\n",
    "The provided csv file **train_timings_data.csv** contains 4 months of data (125 days) between April 1 2022 and July 31 2022 for trains running in the area east of London.  \n",
    "It contains a total of 2,520,092 records.\n",
    "\n",
    "The columns included in the file are as follows:\n",
    "- **origin_date**: the date the record was issued\n",
    "- **train_id**: the train identification number\n",
    "- **signal**: the railway signal identification number\n",
    "- **signal_passing_time**: the time the railway signal was passed\n",
    "\n",
    "- **planned_event_type**: this field is populated if the record corresponds to a departure or arrival from a station (or arrival at destination)\n",
    "- **planned_event_location**: the location of the event in the form of a STANOX code is recorded (if the record corresponds to a planned event)\n",
    "- **planned_event_time**: the intended time for the passing of the railway signal (if the record corresponds to a planned event)\n",
    "- **actual_event_time**: the actual time the passing of the railway signal occured (if the record corresponds to a planned event)\n",
    "\n",
    "In summary:  \n",
    "Each row represents a record of a train passing a railway signal, with some rows containing information relating to a planned event (departure or arrival from a station).\n",
    "\n",
    "_______________"
   ]
  },
  {
   "cell_type": "markdown",
   "metadata": {},
   "source": [
    "## File Stats"
   ]
  },
  {
   "cell_type": "code",
   "execution_count": 1,
   "metadata": {
    "tags": [
     "hide-input",
     "hide-cell"
    ]
   },
   "outputs": [
    {
     "ename": "ModuleNotFoundError",
     "evalue": "No module named 'plotly'",
     "output_type": "error",
     "traceback": [
      "\u001b[0;31m---------------------------------------------------------------------------\u001b[0m",
      "\u001b[0;31mModuleNotFoundError\u001b[0m                       Traceback (most recent call last)",
      "Cell \u001b[0;32mIn [1], line 3\u001b[0m\n\u001b[1;32m      1\u001b[0m get_ipython()\u001b[38;5;241m.\u001b[39mrun_line_magic(\u001b[38;5;124m'\u001b[39m\u001b[38;5;124mreset\u001b[39m\u001b[38;5;124m'\u001b[39m, \u001b[38;5;124m'\u001b[39m\u001b[38;5;124m'\u001b[39m)\n\u001b[1;32m      2\u001b[0m \u001b[38;5;28;01mimport\u001b[39;00m \u001b[38;5;21;01mpandas\u001b[39;00m \u001b[38;5;28;01mas\u001b[39;00m \u001b[38;5;21;01mpd\u001b[39;00m\n\u001b[0;32m----> 3\u001b[0m \u001b[38;5;28;01mimport\u001b[39;00m \u001b[38;5;21;01mplotly\u001b[39;00m\u001b[38;5;21;01m.\u001b[39;00m\u001b[38;5;21;01mio\u001b[39;00m \u001b[38;5;28;01mas\u001b[39;00m \u001b[38;5;21;01mpio\u001b[39;00m\n\u001b[1;32m      4\u001b[0m \u001b[38;5;28;01mimport\u001b[39;00m \u001b[38;5;21;01mplotly\u001b[39;00m\u001b[38;5;21;01m.\u001b[39;00m\u001b[38;5;21;01mexpress\u001b[39;00m \u001b[38;5;28;01mas\u001b[39;00m \u001b[38;5;21;01mpx\u001b[39;00m\n\u001b[1;32m      5\u001b[0m \u001b[38;5;28;01mimport\u001b[39;00m \u001b[38;5;21;01mplotly\u001b[39;00m\u001b[38;5;21;01m.\u001b[39;00m\u001b[38;5;21;01moffline\u001b[39;00m \u001b[38;5;28;01mas\u001b[39;00m \u001b[38;5;21;01mpy\u001b[39;00m\n",
      "\u001b[0;31mModuleNotFoundError\u001b[0m: No module named 'plotly'"
     ]
    }
   ],
   "source": [
    "%reset\n",
    "import pandas as pd\n",
    "import plotly.io as pio\n",
    "import plotly.express as px\n",
    "import plotly.offline as py\n",
    "import plotly.graph_objects as go\n",
    "from convertbng.util import convert_etrs89_to_lonlat\n",
    "\n",
    "train_timings = pd.read_csv('../data/train_timings_data.csv', parse_dates=['origin_date', 'signal_passing_time', 'planned_event_time', 'actual_event_time'], dtype={'planned_event_location': str})"
   ]
  },
  {
   "cell_type": "markdown",
   "metadata": {},
   "source": [
    "### Unique Values"
   ]
  },
  {
   "cell_type": "code",
   "execution_count": 2,
   "metadata": {
    "tags": [
     "hide-input"
    ]
   },
   "outputs": [],
   "source": [
    "# Get the number of unique records in each column\n",
    "# for column in train_timings.columns:\n",
    "#     print(column + ': ' + str(len(train_timings[column].unique())))"
   ]
  },
  {
   "cell_type": "markdown",
   "metadata": {},
   "source": [
    "- origin_date: 125 unique values (124 without NaN)\n",
    "- train_id: 36091 unique values (36090 without NaN)\n",
    "- signal: 343 unique values\n",
    "- signal_passing_time: 2160710 unique values\n",
    "- planned_event_type: 4 unique values (3 without NaN)\n",
    "- planned_event_location: 27 unique values (26 without NaN)\n",
    "- planned_event_time: 279172 unique values (279171 without NaN)\n",
    "- actual_event_time: 843325 unique values (843324 without NaN)"
   ]
  },
  {
   "cell_type": "markdown",
   "metadata": {},
   "source": [
    "### Missing and Duplicate Values"
   ]
  },
  {
   "cell_type": "code",
   "execution_count": 3,
   "metadata": {
    "tags": [
     "hide-input"
    ]
   },
   "outputs": [
    {
     "name": "stdout",
     "output_type": "stream",
     "text": [
      "There are 6569326 missing values or NaNs in train_timings_data.csv.\n",
      "\n",
      "Number of missing values in each column:\n",
      "origin_date                 22319\n",
      "train_id                    22319\n",
      "signal                          0\n",
      "signal_passing_time             0\n",
      "planned_event_type        1631172\n",
      "planned_event_location    1631172\n",
      "planned_event_time        1631172\n",
      "actual_event_time         1631172\n",
      "dtype: int64\n"
     ]
    }
   ],
   "source": [
    "print('There are {} missing values or NaNs in train_timings_data.csv.'\n",
    "      .format(train_timings.isnull().values.sum()))\n",
    "\n",
    "print()\n",
    "print(\"Number of missing values in each column:\")\n",
    "print(train_timings.isnull().sum(axis=0))"
   ]
  },
  {
   "cell_type": "code",
   "execution_count": 4,
   "metadata": {},
   "outputs": [
    {
     "name": "stdout",
     "output_type": "stream",
     "text": [
      "There are 318 duplicate rows in train_timings_data.csv based on all columns.\n"
     ]
    }
   ],
   "source": [
    "temp_train_timings = train_timings.duplicated(keep='first').sum()\n",
    "\n",
    "print('There are {} duplicate rows in train_timings_data.csv based on all columns.'\n",
    "      .format(temp_train_timings))"
   ]
  },
  {
   "cell_type": "markdown",
   "metadata": {},
   "source": [
    "In total, there are **6,569,326 missing values** or NaNs in train_timings_data.csv.  \n",
    "However, we know this is not an accurate measure as half of the columns are empty when the signal is not departing or arriving at a station.  \n",
    "When we look at the 'origin_date' column, we can see that there are 22,319 values missing.   "
   ]
  },
  {
   "cell_type": "markdown",
   "metadata": {},
   "source": [
    "## Expanding the dataset\n",
    "\n",
    "In order to help with readaibility and understanding of the dataset, we have merged data from some other datasets.  \n",
    "We want two main things: \n",
    "- Longitude and Latitude to be able to create a simple map of the stations in the dataset\n",
    "- Station Names to know which station we are looking at when analysing data\n",
    "\n",
    "We used the [CORPUS](https://wiki.openraildata.com/index.php?title=Reference_Data) (Codes for Operations, Retail & Planning – a Unified Solution) dataset to convert stanox to TIPLOC codes.  \n",
    "Then, we obtained Eastings and Northings from [this](https://wiki.openraildata.com/index.php?title=File:TIPLOC_Eastings_and_Northings.xlsx.gz) dataset.  \n",
    "We converted these to Longitude and Latitude Coordinates.  \n",
    "We also merged the data with a [NaPTAN](https://beta-naptan.dft.gov.uk/) file from 2016 which also contains STANOX Codes to get readable station names.\n",
    "\n",
    "For missing station names, we can use [this](http://www.railwaycodes.org.uk/crs/crs0.shtm) website.  \n",
    "For missing station coordinates, we will use Google Maps."
   ]
  },
  {
   "cell_type": "code",
   "execution_count": 5,
   "metadata": {
    "tags": [
     "hide-input"
    ]
   },
   "outputs": [
    {
     "name": "stdout",
     "output_type": "stream",
     "text": [
      "Stations in the Dataset with coordinates\n"
     ]
    },
    {
     "data": {
      "text/html": [
       "<div>\n",
       "<style scoped>\n",
       "    .dataframe tbody tr th:only-of-type {\n",
       "        vertical-align: middle;\n",
       "    }\n",
       "\n",
       "    .dataframe tbody tr th {\n",
       "        vertical-align: top;\n",
       "    }\n",
       "\n",
       "    .dataframe thead th {\n",
       "        text-align: right;\n",
       "    }\n",
       "</style>\n",
       "<table border=\"1\" class=\"dataframe\">\n",
       "  <thead>\n",
       "    <tr style=\"text-align: right;\">\n",
       "      <th></th>\n",
       "      <th>dataset_stations</th>\n",
       "      <th>StationName</th>\n",
       "      <th>LONGITUDE</th>\n",
       "      <th>LATITUDE</th>\n",
       "    </tr>\n",
       "  </thead>\n",
       "  <tbody>\n",
       "    <tr>\n",
       "      <th>0</th>\n",
       "      <td>51013</td>\n",
       "      <td>Leigh-on-Sea Rail Station</td>\n",
       "      <td>0.640612</td>\n",
       "      <td>51.541208</td>\n",
       "    </tr>\n",
       "    <tr>\n",
       "      <th>1</th>\n",
       "      <td>51011</td>\n",
       "      <td>Chalkwell Rail Station</td>\n",
       "      <td>0.670312</td>\n",
       "      <td>51.537902</td>\n",
       "    </tr>\n",
       "    <tr>\n",
       "      <th>2</th>\n",
       "      <td>51009</td>\n",
       "      <td>Westcliff-on-Sea Rail Station</td>\n",
       "      <td>0.693012</td>\n",
       "      <td>51.536672</td>\n",
       "    </tr>\n",
       "    <tr>\n",
       "      <th>3</th>\n",
       "      <td>51007</td>\n",
       "      <td>Southend Central Rail Station</td>\n",
       "      <td>0.710360</td>\n",
       "      <td>51.537214</td>\n",
       "    </tr>\n",
       "    <tr>\n",
       "      <th>4</th>\n",
       "      <td>51005</td>\n",
       "      <td>Southend East Rail Station</td>\n",
       "      <td>0.732399</td>\n",
       "      <td>51.538144</td>\n",
       "    </tr>\n",
       "    <tr>\n",
       "      <th>5</th>\n",
       "      <td>51004</td>\n",
       "      <td>Thorpe Bay Rail Station</td>\n",
       "      <td>0.763447</td>\n",
       "      <td>51.536895</td>\n",
       "    </tr>\n",
       "    <tr>\n",
       "      <th>6</th>\n",
       "      <td>50499</td>\n",
       "      <td>Shoeburyness Depot London End Junction</td>\n",
       "      <td>0.785681</td>\n",
       "      <td>51.533976</td>\n",
       "    </tr>\n",
       "    <tr>\n",
       "      <th>7</th>\n",
       "      <td>51001</td>\n",
       "      <td>Shoeburyness Rail Station</td>\n",
       "      <td>0.796306</td>\n",
       "      <td>51.530404</td>\n",
       "    </tr>\n",
       "    <tr>\n",
       "      <th>8</th>\n",
       "      <td>51531</td>\n",
       "      <td>Barking Rail Station</td>\n",
       "      <td>0.081067</td>\n",
       "      <td>51.539406</td>\n",
       "    </tr>\n",
       "    <tr>\n",
       "      <th>13</th>\n",
       "      <td>51530</td>\n",
       "      <td>Barking Station Junction</td>\n",
       "      <td>0.073137</td>\n",
       "      <td>51.542613</td>\n",
       "    </tr>\n",
       "    <tr>\n",
       "      <th>14</th>\n",
       "      <td>51014</td>\n",
       "      <td>Benfleet Rail Station</td>\n",
       "      <td>0.562470</td>\n",
       "      <td>51.543636</td>\n",
       "    </tr>\n",
       "    <tr>\n",
       "      <th>15</th>\n",
       "      <td>51016</td>\n",
       "      <td>Pitsea Rail Station</td>\n",
       "      <td>0.508825</td>\n",
       "      <td>51.559563</td>\n",
       "    </tr>\n",
       "    <tr>\n",
       "      <th>16</th>\n",
       "      <td>51019</td>\n",
       "      <td>Basildon Rail Station</td>\n",
       "      <td>0.457332</td>\n",
       "      <td>51.568129</td>\n",
       "    </tr>\n",
       "    <tr>\n",
       "      <th>17</th>\n",
       "      <td>51301</td>\n",
       "      <td>Laindon Rail Station</td>\n",
       "      <td>0.426086</td>\n",
       "      <td>51.566754</td>\n",
       "    </tr>\n",
       "    <tr>\n",
       "      <th>18</th>\n",
       "      <td>51305</td>\n",
       "      <td>West Horndon Rail Station</td>\n",
       "      <td>0.342149</td>\n",
       "      <td>51.567120</td>\n",
       "    </tr>\n",
       "    <tr>\n",
       "      <th>19</th>\n",
       "      <td>51351</td>\n",
       "      <td>Upminster Rail Station</td>\n",
       "      <td>0.253761</td>\n",
       "      <td>51.558050</td>\n",
       "    </tr>\n",
       "    <tr>\n",
       "      <th>20</th>\n",
       "      <td>52702</td>\n",
       "      <td>West Ham Rail Station</td>\n",
       "      <td>0.006511</td>\n",
       "      <td>51.527621</td>\n",
       "    </tr>\n",
       "    <tr>\n",
       "      <th>21</th>\n",
       "      <td>52703</td>\n",
       "      <td>Gas Factory Junction</td>\n",
       "      <td>-0.022412</td>\n",
       "      <td>51.522573</td>\n",
       "    </tr>\n",
       "    <tr>\n",
       "      <th>22</th>\n",
       "      <td>52705</td>\n",
       "      <td>Limehouse Rail Station</td>\n",
       "      <td>-0.038208</td>\n",
       "      <td>51.511930</td>\n",
       "    </tr>\n",
       "    <tr>\n",
       "      <th>23</th>\n",
       "      <td>52707</td>\n",
       "      <td>Christian Street Junction</td>\n",
       "      <td>-0.061245</td>\n",
       "      <td>51.510766</td>\n",
       "    </tr>\n",
       "    <tr>\n",
       "      <th>24</th>\n",
       "      <td>52711</td>\n",
       "      <td>London Fenchurch Street Rail Station</td>\n",
       "      <td>-0.076138</td>\n",
       "      <td>51.510624</td>\n",
       "    </tr>\n",
       "    <tr>\n",
       "      <th>25</th>\n",
       "      <td>51602</td>\n",
       "      <td>East Ham Electric Multiple Unit Depot</td>\n",
       "      <td>0.068475</td>\n",
       "      <td>51.543487</td>\n",
       "    </tr>\n",
       "    <tr>\n",
       "      <th>26</th>\n",
       "      <td>51003</td>\n",
       "      <td>Shoeburyness Carriage Servicing Depot</td>\n",
       "      <td>0.793755</td>\n",
       "      <td>51.531598</td>\n",
       "    </tr>\n",
       "    <tr>\n",
       "      <th>27</th>\n",
       "      <td>51309</td>\n",
       "      <td>Ockendon Rail Station</td>\n",
       "      <td>0.291612</td>\n",
       "      <td>51.521182</td>\n",
       "    </tr>\n",
       "    <tr>\n",
       "      <th>28</th>\n",
       "      <td>51313</td>\n",
       "      <td>Chafford Hundred Rail Station</td>\n",
       "      <td>0.288822</td>\n",
       "      <td>51.484805</td>\n",
       "    </tr>\n",
       "    <tr>\n",
       "      <th>29</th>\n",
       "      <td>52704</td>\n",
       "      <td>Gas Factory Loop</td>\n",
       "      <td>-0.028290</td>\n",
       "      <td>51.518328</td>\n",
       "    </tr>\n",
       "  </tbody>\n",
       "</table>\n",
       "</div>"
      ],
      "text/plain": [
       "   dataset_stations                             StationName  LONGITUDE  \\\n",
       "0             51013               Leigh-on-Sea Rail Station   0.640612   \n",
       "1             51011                  Chalkwell Rail Station   0.670312   \n",
       "2             51009           Westcliff-on-Sea Rail Station   0.693012   \n",
       "3             51007           Southend Central Rail Station   0.710360   \n",
       "4             51005              Southend East Rail Station   0.732399   \n",
       "5             51004                 Thorpe Bay Rail Station   0.763447   \n",
       "6             50499  Shoeburyness Depot London End Junction   0.785681   \n",
       "7             51001               Shoeburyness Rail Station   0.796306   \n",
       "8             51531                    Barking Rail Station   0.081067   \n",
       "13            51530                Barking Station Junction   0.073137   \n",
       "14            51014                   Benfleet Rail Station   0.562470   \n",
       "15            51016                     Pitsea Rail Station   0.508825   \n",
       "16            51019                   Basildon Rail Station   0.457332   \n",
       "17            51301                    Laindon Rail Station   0.426086   \n",
       "18            51305               West Horndon Rail Station   0.342149   \n",
       "19            51351                  Upminster Rail Station   0.253761   \n",
       "20            52702                   West Ham Rail Station   0.006511   \n",
       "21            52703                    Gas Factory Junction  -0.022412   \n",
       "22            52705                  Limehouse Rail Station  -0.038208   \n",
       "23            52707               Christian Street Junction  -0.061245   \n",
       "24            52711    London Fenchurch Street Rail Station  -0.076138   \n",
       "25            51602   East Ham Electric Multiple Unit Depot   0.068475   \n",
       "26            51003   Shoeburyness Carriage Servicing Depot   0.793755   \n",
       "27            51309                   Ockendon Rail Station   0.291612   \n",
       "28            51313           Chafford Hundred Rail Station   0.288822   \n",
       "29            52704                        Gas Factory Loop  -0.028290   \n",
       "\n",
       "     LATITUDE  \n",
       "0   51.541208  \n",
       "1   51.537902  \n",
       "2   51.536672  \n",
       "3   51.537214  \n",
       "4   51.538144  \n",
       "5   51.536895  \n",
       "6   51.533976  \n",
       "7   51.530404  \n",
       "8   51.539406  \n",
       "13  51.542613  \n",
       "14  51.543636  \n",
       "15  51.559563  \n",
       "16  51.568129  \n",
       "17  51.566754  \n",
       "18  51.567120  \n",
       "19  51.558050  \n",
       "20  51.527621  \n",
       "21  51.522573  \n",
       "22  51.511930  \n",
       "23  51.510766  \n",
       "24  51.510624  \n",
       "25  51.543487  \n",
       "26  51.531598  \n",
       "27  51.521182  \n",
       "28  51.484805  \n",
       "29  51.518328  "
      ]
     },
     "execution_count": 5,
     "metadata": {},
     "output_type": "execute_result"
    }
   ],
   "source": [
    "# we will join the data with CORPUS to get tiploc.\n",
    "# Then we will join the data with NaPTAN. This will also give us the names of each stop\n",
    "# Then we can create a map of the coordinates\n",
    "\n",
    "# get unique stations in dataset\n",
    "unique_stanox_values = train_timings.planned_event_location.unique()\n",
    "stanox_map_data = pd.DataFrame(data = {'dataset_stations': unique_stanox_values})\n",
    "stanox_map_data.dropna(inplace=True)\n",
    "\n",
    "# get and merge corpus\n",
    "corpus = pd.read_json('../data/CORPUSExtract.json', orient='records')\n",
    "stanox_map_data = stanox_map_data.merge(corpus, how='left',left_on='dataset_stations', right_on='STANOX')\n",
    "\n",
    "# get and merge naptan 2016\n",
    "naptan_2016 = pd.read_csv('../data/NaPTAN-2016.csv')\n",
    "stanox_map_data = stanox_map_data.merge(naptan_2016, how='left',left_on='TIPLOC', right_on='TiplocCode')\n",
    "\n",
    "# get and merge tiploc EN\n",
    "tiploc_EN = pd.read_excel('../data/TIPLOC Eastings and Northings.xlsx')\n",
    "stanox_map_data = stanox_map_data.merge(tiploc_EN, how='left',left_on='TIPLOC', right_on='TIPLOC')\n",
    "\n",
    "# lets drop all columns apart from dataset_stations, StationName, Easting, Northing. We will keep NLCDESC too as our dataframe is still missing some of the values we want..\n",
    "stanox_map_data.drop(stanox_map_data.columns.difference(['dataset_stations', 'StationName', 'EASTING', 'NORTHING', 'NLCDESC']), axis=1, inplace=True)\n",
    "\n",
    "# convert EN to LL\n",
    "# using this function isn't super accurate, but it will do for the purposes of simple visualisation\n",
    "# if more accurate coordinates are needed convert_to_lonlat can be used, but its takes a long time.\n",
    "lat_long = convert_etrs89_to_lonlat(list(stanox_map_data['EASTING']), list(stanox_map_data['NORTHING'])); # close enough\n",
    "stanox_map_data['LONGITUDE'] = lat_long[0]\n",
    "stanox_map_data['LATITUDE'] = lat_long[1]\n",
    "\n",
    "# drop duplicates on dataset stations\n",
    "stanox_map_data.drop_duplicates(subset=['dataset_stations'], keep='first', inplace=True)\n",
    "\n",
    "# we will fill the rest manually. found on http://www.railwaycodes.org.uk/crs/crsg.shtm and google maps\n",
    "stanox_map_data.at[6, 'StationName'] = 'Shoeburyness Depot London End Junction'\n",
    "stanox_map_data.at[13, 'StationName'] = 'Barking Station Junction'\n",
    "stanox_map_data.at[21, 'StationName'] = 'Gas Factory Junction'\n",
    "stanox_map_data.at[23, 'StationName'] = 'Christian Street Junction'\n",
    "stanox_map_data.at[25, 'StationName'] = 'East Ham Electric Multiple Unit Depot'\n",
    "stanox_map_data.at[26, 'StationName'] = 'Shoeburyness Carriage Servicing Depot'\n",
    "stanox_map_data.at[29, 'StationName'] = 'Gas Factory Loop'\n",
    "\n",
    "stanox_map_data.at[0, 'LONGITUDE'] = '0.6406116596973183'\n",
    "stanox_map_data.at[0, 'LATITUDE'] = '51.54120825152502'\n",
    "\n",
    "stanox_map_data.at[3, 'LONGITUDE'] = '0.710359938504039'\n",
    "stanox_map_data.at[3, 'LATITUDE'] = '51.53721361264267'\n",
    "\n",
    "stanox_map_data.at[16, 'LONGITUDE'] = '0.4573321689628452'\n",
    "stanox_map_data.at[16, 'LATITUDE'] = '51.5681286353167'\n",
    "\n",
    "# we can drop easting, northing and nlcdesc\n",
    "stanox_map_data.drop(['EASTING', 'NORTHING', 'NLCDESC'], axis=1, inplace=True)\n",
    "\n",
    "# merge this information to our main dataframe in case we want to use it later. it will also help with readability\n",
    "train_timings = train_timings.merge(stanox_map_data, how='left',left_on='planned_event_location', right_on='dataset_stations')\n",
    "\n",
    "print(\"Stations in the Dataset with coordinates\")\n",
    "stanox_map_data"
   ]
  },
  {
   "cell_type": "code",
   "execution_count": 6,
   "metadata": {},
   "outputs": [
    {
     "data": {
      "text/html": [
       "<script type=\"text/javascript\">\n",
       "window.PlotlyConfig = {MathJaxConfig: 'local'};\n",
       "if (window.MathJax && window.MathJax.Hub && window.MathJax.Hub.Config) {window.MathJax.Hub.Config({SVG: {font: \"STIX-Web\"}});}\n",
       "if (typeof require !== 'undefined') {\n",
       "require.undef(\"plotly\");\n",
       "requirejs.config({\n",
       "    paths: {\n",
       "        'plotly': ['https://cdn.plot.ly/plotly-2.14.0.min']\n",
       "    }\n",
       "});\n",
       "require(['plotly'], function(Plotly) {\n",
       "    window._Plotly = Plotly;\n",
       "});\n",
       "}\n",
       "</script>\n"
      ]
     },
     "metadata": {},
     "output_type": "display_data"
    },
    {
     "data": {
      "text/html": [
       "<div>                            <div id=\"cd0c12c9-8f21-4aed-8a5d-41a9a8b94d97\" class=\"plotly-graph-div\" style=\"height:525px; width:100%;\"></div>            <script type=\"text/javascript\">                require([\"plotly\"], function(Plotly) {                    window.PLOTLYENV=window.PLOTLYENV || {};                                    if (document.getElementById(\"cd0c12c9-8f21-4aed-8a5d-41a9a8b94d97\")) {                    Plotly.newPlot(                        \"cd0c12c9-8f21-4aed-8a5d-41a9a8b94d97\",                        [{\"lat\":[51.54120825152502,51.53790152,51.53667183,51.53721361264267,51.53814392,51.5368946,51.53397602,51.53040424,51.53940643,51.54261347,51.54363554,51.55956297,51.5681286353167,51.56675367,51.56711975,51.55805044,51.52762092,51.52257258,51.51192952,51.51076588,51.51062448,51.54348716,51.53159832,51.52118204,51.48480458,51.51832799],\"lon\":[0.6406116596973183,0.67031199,0.69301184,0.710359938504039,0.73239941,0.76344711,0.78568063,0.79630632,0.08106727,0.07313721,0.56246983,0.50882544,0.4573321689628452,0.42608627,0.34214857,0.25376115,0.00651108,-0.02241242,-0.03820808,-0.06124494,-0.07613828,0.06847522,0.79375502,0.29161216,0.28882226,-0.02828996],\"mode\":\"markers\",\"text\":[\"51013 : Leigh-on-Sea Rail Station\",\"51011 : Chalkwell Rail Station\",\"51009 : Westcliff-on-Sea Rail Station\",\"51007 : Southend Central Rail Station\",\"51005 : Southend East Rail Station\",\"51004 : Thorpe Bay Rail Station\",\"50499 : Shoeburyness Depot London End Junction\",\"51001 : Shoeburyness Rail Station\",\"51531 : Barking Rail Station\",\"51530 : Barking Station Junction\",\"51014 : Benfleet Rail Station\",\"51016 : Pitsea Rail Station\",\"51019 : Basildon Rail Station\",\"51301 : Laindon Rail Station\",\"51305 : West Horndon Rail Station\",\"51351 : Upminster Rail Station\",\"52702 : West Ham Rail Station\",\"52703 : Gas Factory Junction\",\"52705 : Limehouse Rail Station\",\"52707 : Christian Street Junction\",\"52711 : London Fenchurch Street Rail Station\",\"51602 : East Ham Electric Multiple Unit Depot\",\"51003 : Shoeburyness Carriage Servicing Depot\",\"51309 : Ockendon Rail Station\",\"51313 : Chafford Hundred Rail Station\",\"52704 : Gas Factory Loop\"],\"type\":\"scattergeo\"}],                        {\"template\":{\"data\":{\"histogram2dcontour\":[{\"type\":\"histogram2dcontour\",\"colorbar\":{\"outlinewidth\":0,\"ticks\":\"\"},\"colorscale\":[[0.0,\"#0d0887\"],[0.1111111111111111,\"#46039f\"],[0.2222222222222222,\"#7201a8\"],[0.3333333333333333,\"#9c179e\"],[0.4444444444444444,\"#bd3786\"],[0.5555555555555556,\"#d8576b\"],[0.6666666666666666,\"#ed7953\"],[0.7777777777777778,\"#fb9f3a\"],[0.8888888888888888,\"#fdca26\"],[1.0,\"#f0f921\"]]}],\"choropleth\":[{\"type\":\"choropleth\",\"colorbar\":{\"outlinewidth\":0,\"ticks\":\"\"}}],\"histogram2d\":[{\"type\":\"histogram2d\",\"colorbar\":{\"outlinewidth\":0,\"ticks\":\"\"},\"colorscale\":[[0.0,\"#0d0887\"],[0.1111111111111111,\"#46039f\"],[0.2222222222222222,\"#7201a8\"],[0.3333333333333333,\"#9c179e\"],[0.4444444444444444,\"#bd3786\"],[0.5555555555555556,\"#d8576b\"],[0.6666666666666666,\"#ed7953\"],[0.7777777777777778,\"#fb9f3a\"],[0.8888888888888888,\"#fdca26\"],[1.0,\"#f0f921\"]]}],\"heatmap\":[{\"type\":\"heatmap\",\"colorbar\":{\"outlinewidth\":0,\"ticks\":\"\"},\"colorscale\":[[0.0,\"#0d0887\"],[0.1111111111111111,\"#46039f\"],[0.2222222222222222,\"#7201a8\"],[0.3333333333333333,\"#9c179e\"],[0.4444444444444444,\"#bd3786\"],[0.5555555555555556,\"#d8576b\"],[0.6666666666666666,\"#ed7953\"],[0.7777777777777778,\"#fb9f3a\"],[0.8888888888888888,\"#fdca26\"],[1.0,\"#f0f921\"]]}],\"heatmapgl\":[{\"type\":\"heatmapgl\",\"colorbar\":{\"outlinewidth\":0,\"ticks\":\"\"},\"colorscale\":[[0.0,\"#0d0887\"],[0.1111111111111111,\"#46039f\"],[0.2222222222222222,\"#7201a8\"],[0.3333333333333333,\"#9c179e\"],[0.4444444444444444,\"#bd3786\"],[0.5555555555555556,\"#d8576b\"],[0.6666666666666666,\"#ed7953\"],[0.7777777777777778,\"#fb9f3a\"],[0.8888888888888888,\"#fdca26\"],[1.0,\"#f0f921\"]]}],\"contourcarpet\":[{\"type\":\"contourcarpet\",\"colorbar\":{\"outlinewidth\":0,\"ticks\":\"\"}}],\"contour\":[{\"type\":\"contour\",\"colorbar\":{\"outlinewidth\":0,\"ticks\":\"\"},\"colorscale\":[[0.0,\"#0d0887\"],[0.1111111111111111,\"#46039f\"],[0.2222222222222222,\"#7201a8\"],[0.3333333333333333,\"#9c179e\"],[0.4444444444444444,\"#bd3786\"],[0.5555555555555556,\"#d8576b\"],[0.6666666666666666,\"#ed7953\"],[0.7777777777777778,\"#fb9f3a\"],[0.8888888888888888,\"#fdca26\"],[1.0,\"#f0f921\"]]}],\"surface\":[{\"type\":\"surface\",\"colorbar\":{\"outlinewidth\":0,\"ticks\":\"\"},\"colorscale\":[[0.0,\"#0d0887\"],[0.1111111111111111,\"#46039f\"],[0.2222222222222222,\"#7201a8\"],[0.3333333333333333,\"#9c179e\"],[0.4444444444444444,\"#bd3786\"],[0.5555555555555556,\"#d8576b\"],[0.6666666666666666,\"#ed7953\"],[0.7777777777777778,\"#fb9f3a\"],[0.8888888888888888,\"#fdca26\"],[1.0,\"#f0f921\"]]}],\"mesh3d\":[{\"type\":\"mesh3d\",\"colorbar\":{\"outlinewidth\":0,\"ticks\":\"\"}}],\"scatter\":[{\"fillpattern\":{\"fillmode\":\"overlay\",\"size\":10,\"solidity\":0.2},\"type\":\"scatter\"}],\"parcoords\":[{\"type\":\"parcoords\",\"line\":{\"colorbar\":{\"outlinewidth\":0,\"ticks\":\"\"}}}],\"scatterpolargl\":[{\"type\":\"scatterpolargl\",\"marker\":{\"colorbar\":{\"outlinewidth\":0,\"ticks\":\"\"}}}],\"bar\":[{\"error_x\":{\"color\":\"#2a3f5f\"},\"error_y\":{\"color\":\"#2a3f5f\"},\"marker\":{\"line\":{\"color\":\"#E5ECF6\",\"width\":0.5},\"pattern\":{\"fillmode\":\"overlay\",\"size\":10,\"solidity\":0.2}},\"type\":\"bar\"}],\"scattergeo\":[{\"type\":\"scattergeo\",\"marker\":{\"colorbar\":{\"outlinewidth\":0,\"ticks\":\"\"}}}],\"scatterpolar\":[{\"type\":\"scatterpolar\",\"marker\":{\"colorbar\":{\"outlinewidth\":0,\"ticks\":\"\"}}}],\"histogram\":[{\"marker\":{\"pattern\":{\"fillmode\":\"overlay\",\"size\":10,\"solidity\":0.2}},\"type\":\"histogram\"}],\"scattergl\":[{\"type\":\"scattergl\",\"marker\":{\"colorbar\":{\"outlinewidth\":0,\"ticks\":\"\"}}}],\"scatter3d\":[{\"type\":\"scatter3d\",\"line\":{\"colorbar\":{\"outlinewidth\":0,\"ticks\":\"\"}},\"marker\":{\"colorbar\":{\"outlinewidth\":0,\"ticks\":\"\"}}}],\"scattermapbox\":[{\"type\":\"scattermapbox\",\"marker\":{\"colorbar\":{\"outlinewidth\":0,\"ticks\":\"\"}}}],\"scatterternary\":[{\"type\":\"scatterternary\",\"marker\":{\"colorbar\":{\"outlinewidth\":0,\"ticks\":\"\"}}}],\"scattercarpet\":[{\"type\":\"scattercarpet\",\"marker\":{\"colorbar\":{\"outlinewidth\":0,\"ticks\":\"\"}}}],\"carpet\":[{\"aaxis\":{\"endlinecolor\":\"#2a3f5f\",\"gridcolor\":\"white\",\"linecolor\":\"white\",\"minorgridcolor\":\"white\",\"startlinecolor\":\"#2a3f5f\"},\"baxis\":{\"endlinecolor\":\"#2a3f5f\",\"gridcolor\":\"white\",\"linecolor\":\"white\",\"minorgridcolor\":\"white\",\"startlinecolor\":\"#2a3f5f\"},\"type\":\"carpet\"}],\"table\":[{\"cells\":{\"fill\":{\"color\":\"#EBF0F8\"},\"line\":{\"color\":\"white\"}},\"header\":{\"fill\":{\"color\":\"#C8D4E3\"},\"line\":{\"color\":\"white\"}},\"type\":\"table\"}],\"barpolar\":[{\"marker\":{\"line\":{\"color\":\"#E5ECF6\",\"width\":0.5},\"pattern\":{\"fillmode\":\"overlay\",\"size\":10,\"solidity\":0.2}},\"type\":\"barpolar\"}],\"pie\":[{\"automargin\":true,\"type\":\"pie\"}]},\"layout\":{\"autotypenumbers\":\"strict\",\"colorway\":[\"#636efa\",\"#EF553B\",\"#00cc96\",\"#ab63fa\",\"#FFA15A\",\"#19d3f3\",\"#FF6692\",\"#B6E880\",\"#FF97FF\",\"#FECB52\"],\"font\":{\"color\":\"#2a3f5f\"},\"hovermode\":\"closest\",\"hoverlabel\":{\"align\":\"left\"},\"paper_bgcolor\":\"white\",\"plot_bgcolor\":\"#E5ECF6\",\"polar\":{\"bgcolor\":\"#E5ECF6\",\"angularaxis\":{\"gridcolor\":\"white\",\"linecolor\":\"white\",\"ticks\":\"\"},\"radialaxis\":{\"gridcolor\":\"white\",\"linecolor\":\"white\",\"ticks\":\"\"}},\"ternary\":{\"bgcolor\":\"#E5ECF6\",\"aaxis\":{\"gridcolor\":\"white\",\"linecolor\":\"white\",\"ticks\":\"\"},\"baxis\":{\"gridcolor\":\"white\",\"linecolor\":\"white\",\"ticks\":\"\"},\"caxis\":{\"gridcolor\":\"white\",\"linecolor\":\"white\",\"ticks\":\"\"}},\"coloraxis\":{\"colorbar\":{\"outlinewidth\":0,\"ticks\":\"\"}},\"colorscale\":{\"sequential\":[[0.0,\"#0d0887\"],[0.1111111111111111,\"#46039f\"],[0.2222222222222222,\"#7201a8\"],[0.3333333333333333,\"#9c179e\"],[0.4444444444444444,\"#bd3786\"],[0.5555555555555556,\"#d8576b\"],[0.6666666666666666,\"#ed7953\"],[0.7777777777777778,\"#fb9f3a\"],[0.8888888888888888,\"#fdca26\"],[1.0,\"#f0f921\"]],\"sequentialminus\":[[0.0,\"#0d0887\"],[0.1111111111111111,\"#46039f\"],[0.2222222222222222,\"#7201a8\"],[0.3333333333333333,\"#9c179e\"],[0.4444444444444444,\"#bd3786\"],[0.5555555555555556,\"#d8576b\"],[0.6666666666666666,\"#ed7953\"],[0.7777777777777778,\"#fb9f3a\"],[0.8888888888888888,\"#fdca26\"],[1.0,\"#f0f921\"]],\"diverging\":[[0,\"#8e0152\"],[0.1,\"#c51b7d\"],[0.2,\"#de77ae\"],[0.3,\"#f1b6da\"],[0.4,\"#fde0ef\"],[0.5,\"#f7f7f7\"],[0.6,\"#e6f5d0\"],[0.7,\"#b8e186\"],[0.8,\"#7fbc41\"],[0.9,\"#4d9221\"],[1,\"#276419\"]]},\"xaxis\":{\"gridcolor\":\"white\",\"linecolor\":\"white\",\"ticks\":\"\",\"title\":{\"standoff\":15},\"zerolinecolor\":\"white\",\"automargin\":true,\"zerolinewidth\":2},\"yaxis\":{\"gridcolor\":\"white\",\"linecolor\":\"white\",\"ticks\":\"\",\"title\":{\"standoff\":15},\"zerolinecolor\":\"white\",\"automargin\":true,\"zerolinewidth\":2},\"scene\":{\"xaxis\":{\"backgroundcolor\":\"#E5ECF6\",\"gridcolor\":\"white\",\"linecolor\":\"white\",\"showbackground\":true,\"ticks\":\"\",\"zerolinecolor\":\"white\",\"gridwidth\":2},\"yaxis\":{\"backgroundcolor\":\"#E5ECF6\",\"gridcolor\":\"white\",\"linecolor\":\"white\",\"showbackground\":true,\"ticks\":\"\",\"zerolinecolor\":\"white\",\"gridwidth\":2},\"zaxis\":{\"backgroundcolor\":\"#E5ECF6\",\"gridcolor\":\"white\",\"linecolor\":\"white\",\"showbackground\":true,\"ticks\":\"\",\"zerolinecolor\":\"white\",\"gridwidth\":2}},\"shapedefaults\":{\"line\":{\"color\":\"#2a3f5f\"}},\"annotationdefaults\":{\"arrowcolor\":\"#2a3f5f\",\"arrowhead\":0,\"arrowwidth\":1},\"geo\":{\"bgcolor\":\"white\",\"landcolor\":\"#E5ECF6\",\"subunitcolor\":\"white\",\"showland\":true,\"showlakes\":true,\"lakecolor\":\"white\"},\"title\":{\"x\":0.05},\"mapbox\":{\"style\":\"light\"}}},\"geo\":{\"scope\":\"europe\"},\"title\":{\"text\":\"Some Public Transport Stops UK<br>(Hover for names)\"}},                        {\"responsive\": true}                    ).then(function(){\n",
       "\n",
       "var gd = document.getElementById('cd0c12c9-8f21-4aed-8a5d-41a9a8b94d97');\n",
       "var x = new MutationObserver(function (mutations, observer) {{\n",
       "        var display = window.getComputedStyle(gd).display;\n",
       "        if (!display || display === 'none') {{\n",
       "            console.log([gd, 'removed!']);\n",
       "            Plotly.purge(gd);\n",
       "            observer.disconnect();\n",
       "        }}\n",
       "}});\n",
       "\n",
       "// Listen for the removal of the full notebook cells\n",
       "var notebookContainer = gd.closest('#notebook-container');\n",
       "if (notebookContainer) {{\n",
       "    x.observe(notebookContainer, {childList: true});\n",
       "}}\n",
       "\n",
       "// Listen for the clearing of the current output cell\n",
       "var outputEl = gd.closest('.output');\n",
       "if (outputEl) {{\n",
       "    x.observe(outputEl, {childList: true});\n",
       "}}\n",
       "\n",
       "                        })                };                });            </script>        </div>"
      ]
     },
     "metadata": {},
     "output_type": "display_data"
    }
   ],
   "source": [
    "pio.renderers\n",
    "pio.renderers.default = \"notebook_connected\"\n",
    "\n",
    "fig = go.Figure(data=go.Scattergeo(\n",
    "        lon = stanox_map_data['LONGITUDE'],\n",
    "        lat = stanox_map_data['LATITUDE'],\n",
    "        text = stanox_map_data['dataset_stations'] + ' : ' +stanox_map_data['StationName'],\n",
    "        mode = 'markers',\n",
    "        ))\n",
    "\n",
    "fig.update_layout(\n",
    "        title = 'Some Public Transport Stops UK<br>(Hover for names)',\n",
    "        geo_scope='europe',\n",
    "    )\n",
    "fig.show()"
   ]
  },
  {
   "cell_type": "markdown",
   "metadata": {},
   "source": [
    "The above visualisation isn't perfect, but it serves its purpose. You can zoom into the UK and see roughly where each station is on the map and that they are all in the area west of London."
   ]
  },
  {
   "cell_type": "code",
   "execution_count": 7,
   "metadata": {
    "tags": [
     "hide-input"
    ]
   },
   "outputs": [
    {
     "name": "stdout",
     "output_type": "stream",
     "text": [
      "Stored 'train_timings' (DataFrame)\n"
     ]
    }
   ],
   "source": [
    "# store variables for next notebook\n",
    "%store train_timings"
   ]
  }
 ],
 "metadata": {
  "celltoolbar": "Tags",
  "interpreter": {
   "hash": "5588b4b2765d98ddfe88bcee51af3dd732b69bd1bb846a381827e7603c7da059"
  },
  "kernelspec": {
   "display_name": "Python 3 (ipykernel)",
   "language": "python",
   "name": "python3"
  },
  "language_info": {
   "codemirror_mode": {
    "name": "ipython",
    "version": 3
   },
   "file_extension": ".py",
   "mimetype": "text/x-python",
   "name": "python",
   "nbconvert_exporter": "python",
   "pygments_lexer": "ipython3",
   "version": "3.9.9"
  }
 },
 "nbformat": 4,
 "nbformat_minor": 2
}